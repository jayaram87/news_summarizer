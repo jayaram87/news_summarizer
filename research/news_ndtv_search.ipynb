{
 "cells": [
  {
   "cell_type": "code",
   "execution_count": 1,
   "id": "1a2f13bb",
   "metadata": {},
   "outputs": [
    {
     "name": "stdout",
     "output_type": "stream",
     "text": [
      "Requirement already satisfied: webdriver-manager in d:\\anaconda\\lib\\site-packages (3.8.3)\n",
      "Requirement already satisfied: tqdm in d:\\anaconda\\lib\\site-packages (from webdriver-manager) (4.64.0)\n",
      "Requirement already satisfied: requests in d:\\anaconda\\lib\\site-packages (from webdriver-manager) (2.27.1)\n",
      "Requirement already satisfied: python-dotenv in d:\\anaconda\\lib\\site-packages (from webdriver-manager) (0.21.0)\n",
      "Requirement already satisfied: urllib3<1.27,>=1.21.1 in d:\\anaconda\\lib\\site-packages (from requests->webdriver-manager) (1.26.9)\n",
      "Requirement already satisfied: charset-normalizer~=2.0.0 in d:\\anaconda\\lib\\site-packages (from requests->webdriver-manager) (2.0.4)\n",
      "Requirement already satisfied: certifi>=2017.4.17 in d:\\anaconda\\lib\\site-packages (from requests->webdriver-manager) (2021.10.8)\n",
      "Requirement already satisfied: idna<4,>=2.5 in d:\\anaconda\\lib\\site-packages (from requests->webdriver-manager) (3.3)\n",
      "Requirement already satisfied: colorama in d:\\anaconda\\lib\\site-packages (from tqdm->webdriver-manager) (0.4.4)\n"
     ]
    }
   ],
   "source": [
    "!pip install webdriver-manager"
   ]
  },
  {
   "cell_type": "code",
   "execution_count": 1,
   "id": "7f1ddd77",
   "metadata": {},
   "outputs": [
    {
     "name": "stderr",
     "output_type": "stream",
     "text": [
      "C:\\Users\\jayar\\AppData\\Local\\Temp\\ipykernel_23212\\2055660199.py:15: DeprecationWarning: executable_path has been deprecated, please pass in a Service object\n",
      "  driver = webdriver.Chrome(ChromeDriverManager().install())\n"
     ]
    },
    {
     "name": "stdout",
     "output_type": "stream",
     "text": [
      "No Dialog box popped up\n",
      "https://www.ndtv.com/world-news/donald-trump-asks-us-supreme-court-to-intervene-in-florida-home-raid-case-3404051\n",
      "No Dialog box popped up\n"
     ]
    },
    {
     "data": {
      "text/plain": [
       "{'keyword': 'trump',\n",
       " 'headline': 'Donald Trump Asks US Supreme Court To Intervene In Florida Home Raid Case',\n",
       " 'text': 'Former US president Donald Trump asked the Supreme Court on Tuesday to intervene in the legal tussle over classified documents seized in the FBI raid of his Florida home.Trump urged the conservative-dominated court to stay a ruling by the 11th Circuit Court of Appeals that restored access to the classified documents to the Justice Department.The FBI, in the affidavit used to justify the August 8 raid on Trump\\'s home, said it was conducting a criminal investigation into \"improper removal and storage of classified information\" and \"unlawful concealment of government records.\"The search warrant said the probe was also related to \"willful retention of national defense information,\" an offense that falls under the Espionage Act, and potential \"obstruction of a federal investigation.\"A \"special master,\" a senior New York judge, was appointed by a District Court judge in Florida to screen the seized files for materials potentially subject to attorney-client privilege.A three-judge appellate panel ruled that while the special master conducts his review, the government should be able to continue using documents marked as classified for its criminal investigation.Trump, in his emergency request to the Supreme Court, is appealing that unanimous ruling by the appellate panel made up of two judges appointed by Trump and one by Barack Obama.Trump nominated three of the justices on the nine-member Supreme Court but it has delivered him several defeats in high-profile cases, most notably by refusing to hear his claims alleging fraud in the November 2020 presidential election.(Except for the headline, this story has not been edited by NDTV staff and is published from a syndicated feed.)',\n",
       " 'summary': None}"
      ]
     },
     "execution_count": 1,
     "metadata": {},
     "output_type": "execute_result"
    }
   ],
   "source": [
    "import os\n",
    "from selenium import webdriver\n",
    "from selenium.webdriver.common.keys import Keys\n",
    "from selenium.webdriver.common.by import By\n",
    "from selenium.webdriver.support.ui import WebDriverWait\n",
    "from selenium.webdriver.support import expected_conditions as EC\n",
    "from webdriver_manager.chrome import ChromeDriverManager\n",
    "from selenium.webdriver.common.action_chains import ActionChains\n",
    "from selenium.common.exceptions import TimeoutException\n",
    "import time\n",
    "\n",
    "t1 = time.\n",
    "\n",
    "keyword = 'trump'\n",
    "\n",
    "data = {'keyword': keyword, 'headline': None, 'text': None, 'summary': None}\n",
    "\n",
    "driver = webdriver.Chrome(ChromeDriverManager().install())\n",
    "\n",
    "driver.maximize_window()\n",
    "driver.get('https://ndtv.com/')\n",
    "driver.execute_script('window.scrollTo(0, 0);')\n",
    "driver.implicitly_wait(8)\n",
    "search_icon = driver.find_element(By.ID, 'h_search_menu')\n",
    "search_icon.click()\n",
    "search_box = driver.find_element(By.CSS_SELECTOR, 'input[placeholder=\"Search here...\"]')\n",
    "ActionChains(driver).move_to_element(search_box).send_keys(keyword).perform()\n",
    "driver.find_element(By.CLASS_NAME, 'n_searchbtn').click()\n",
    "if len(driver.find_elements(By.XPATH, '//div[@class=\"srh_tab-wrp\"]/div[@id=\"all\"]/div[@class=\"topic_error_message\"]')) > 0:\n",
    "    print(f'{keyword} doesnot have any news items currently')\n",
    "    driver.close()\n",
    "else:\n",
    "    try:\n",
    "        WebDriverWait(driver, 10).until(EC.element_to_be_clickable((By.XPATH,'//div[@class=\"noti_btnwrap\"]/a[@class=\"notnow\"]'))).click()\n",
    "        driver.implicitly_wait(5)\n",
    "        news_tab = driver.find_element(By.XPATH, '//li[@data-tab=\"news\"]')\n",
    "        news_tab.click()\n",
    "        first_news_article_link = driver.find_element(By.XPATH, '//div[@id=\"news_list\"]/ul[@class=\"src_lst-ul\"]/li[@class=\"src_lst-li\"]/div[@class=\"src_lst-rhs\"]/div[@class=\"src_itm-ttl\"]/a').get_attribute('href')\n",
    "        print(first_news_article_link)\n",
    "        driver.get(first_news_article_link)\n",
    "        driver.execute_script('window.scrollTo(0, 0);')\n",
    "        driver.implicitly_wait(8)\n",
    "        try:\n",
    "            WebDriverWait(driver, 10).until(EC.element_to_be_clickable((By.XPATH,'//div[@class=\"noti_btnwrap\"]/a[@class=\"notnow\"]'))).click()\n",
    "            driver.implicitly_wait(5)\n",
    "            headline = driver.find_element(By.XPATH, '//h1[@itemprop=\"headline\"]').text\n",
    "            texts = driver.find_elements(By.XPATH, '//div[@itemprop=\"articleBody\"]/p')\n",
    "            text = ''.join(p.text for p in texts)\n",
    "            drive.close()\n",
    "        except TimeoutException as e:\n",
    "            print(f'No Dialog box popped up')\n",
    "        finally:\n",
    "            headline = driver.find_element(By.XPATH, '//h1[@itemprop=\"headline\"]').text\n",
    "            texts = driver.find_elements(By.XPATH, '//div[@itemprop=\"articleBody\"]/p')\n",
    "            text = ''.join(p.text for p in texts)\n",
    "            driver.close()\n",
    "    except TimeoutException as e:\n",
    "        print(f'No Dialog box popped up')\n",
    "    finally:\n",
    "        news_tab = driver.find_element(By.XPATH, '//li[@data-tab=\"news\"]')\n",
    "        news_tab.click()\n",
    "        first_news_article_link = driver.find_element(By.XPATH, '//div[@id=\"news_list\"]/ul[@class=\"src_lst-ul\"]/li[@class=\"src_lst-li\"]/div[@class=\"src_lst-rhs\"]/div[@class=\"src_itm-ttl\"]/a').get_attribute('href')\n",
    "        print(first_news_article_link)\n",
    "        driver.get(first_news_article_link)\n",
    "        driver.execute_script('window.scrollTo(0, 0);')\n",
    "        driver.implicitly_wait(8)\n",
    "        try:\n",
    "            WebDriverWait(driver, 10).until(EC.element_to_be_clickable((By.XPATH,'//div[@class=\"noti_btnwrap\"]/a[@class=\"notnow\"]'))).click()\n",
    "            driver.implicitly_wait(5)\n",
    "            headline = driver.find_element(By.XPATH, '//h1[@itemprop=\"headline\"]').text\n",
    "            texts = driver.find_elements(By.XPATH, '//div[@itemprop=\"articleBody\"]//p[not(contains(@i,\"Except for the headline\"))]')\n",
    "            text = ''.join(p.text for p in texts)\n",
    "            driver.close()\n",
    "        except TimeoutException as e:\n",
    "            print(f'No Dialog box popped up')\n",
    "        finally:\n",
    "            headline = driver.find_element(By.XPATH, '//h1[@itemprop=\"headline\"]').text\n",
    "            texts = driver.find_elements(By.XPATH, '//div[@itemprop=\"articleBody\"]/p[not(contains(@i,\"Except for the headline\"))]')\n",
    "            text = ''.join(p.text for p in texts)\n",
    "            driver.close()\n",
    "data.update({'headline': headline, 'text': text})\n",
    "data"
   ]
  },
  {
   "cell_type": "code",
   "execution_count": null,
   "id": "1b3defac",
   "metadata": {},
   "outputs": [],
   "source": []
  }
 ],
 "metadata": {
  "kernelspec": {
   "display_name": "Python 3 (ipykernel)",
   "language": "python",
   "name": "python3"
  },
  "language_info": {
   "codemirror_mode": {
    "name": "ipython",
    "version": 3
   },
   "file_extension": ".py",
   "mimetype": "text/x-python",
   "name": "python",
   "nbconvert_exporter": "python",
   "pygments_lexer": "ipython3",
   "version": "3.9.12"
  }
 },
 "nbformat": 4,
 "nbformat_minor": 5
}
